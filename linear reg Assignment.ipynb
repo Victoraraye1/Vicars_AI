{
 "cells": [
  {
   "cell_type": "code",
   "execution_count": 7,
   "metadata": {},
   "outputs": [],
   "source": [
    "import numpy as np\n",
    "import pandas as pd \n",
    "import seaborn as sns\n",
    "import matplotlib.pyplot as plt\n",
    "from sklearn.linear_model import LinearRegression\n",
    "from sklearn.metrics import mean_squared_error\n",
    "from sklearn import preprocessing, svm \n",
    "from sklearn.model_selection import train_test_split"
   ]
  },
  {
   "cell_type": "code",
   "execution_count": 8,
   "metadata": {},
   "outputs": [],
   "source": [
    "column_names = [\"Population\",\"Profit\"]  \n",
    "data = pd.read_csv('ex1data1.txt', names = column_names)"
   ]
  },
  {
   "cell_type": "code",
   "execution_count": 9,
   "metadata": {},
   "outputs": [
    {
     "name": "stdout",
     "output_type": "stream",
     "text": [
      "data shape: (97, 2), column size: 97, row size: 2\n"
     ]
    }
   ],
   "source": [
    "print('data shape: {}, column size: {}, row size: {}' \\\n",
    "      .format(data.shape, data.shape[0], data.shape[1]))"
   ]
  },
  {
   "cell_type": "code",
   "execution_count": 16,
   "metadata": {},
   "outputs": [
    {
     "data": {
      "text/plain": [
       "(   Population   Profit\n",
       " 0      6.1101  17.5920\n",
       " 1      5.5277   9.1302\n",
       " 2      8.5186  13.6620\n",
       " 3      7.0032  11.8540\n",
       " 4      5.8598   6.8233,     Population   Profit\n",
       " 92      5.8707  7.20290\n",
       " 93      5.3054  1.98690\n",
       " 94      8.2934  0.14454\n",
       " 95     13.3940  9.05510\n",
       " 96      5.4369  0.61705)"
      ]
     },
     "execution_count": 16,
     "metadata": {},
     "output_type": "execute_result"
    }
   ],
   "source": [
    "data.head(5), data.tail(5)"
   ]
  },
  {
   "cell_type": "code",
   "execution_count": 17,
   "metadata": {},
   "outputs": [
    {
     "data": {
      "text/html": [
       "<div>\n",
       "<style scoped>\n",
       "    .dataframe tbody tr th:only-of-type {\n",
       "        vertical-align: middle;\n",
       "    }\n",
       "\n",
       "    .dataframe tbody tr th {\n",
       "        vertical-align: top;\n",
       "    }\n",
       "\n",
       "    .dataframe thead th {\n",
       "        text-align: right;\n",
       "    }\n",
       "</style>\n",
       "<table border=\"1\" class=\"dataframe\">\n",
       "  <thead>\n",
       "    <tr style=\"text-align: right;\">\n",
       "      <th></th>\n",
       "      <th>Population</th>\n",
       "      <th>Profit</th>\n",
       "    </tr>\n",
       "  </thead>\n",
       "  <tbody>\n",
       "    <tr>\n",
       "      <th>count</th>\n",
       "      <td>97.000000</td>\n",
       "      <td>97.000000</td>\n",
       "    </tr>\n",
       "    <tr>\n",
       "      <th>mean</th>\n",
       "      <td>8.159800</td>\n",
       "      <td>5.839135</td>\n",
       "    </tr>\n",
       "    <tr>\n",
       "      <th>std</th>\n",
       "      <td>3.869884</td>\n",
       "      <td>5.510262</td>\n",
       "    </tr>\n",
       "    <tr>\n",
       "      <th>min</th>\n",
       "      <td>5.026900</td>\n",
       "      <td>-2.680700</td>\n",
       "    </tr>\n",
       "    <tr>\n",
       "      <th>25%</th>\n",
       "      <td>5.707700</td>\n",
       "      <td>1.986900</td>\n",
       "    </tr>\n",
       "    <tr>\n",
       "      <th>50%</th>\n",
       "      <td>6.589400</td>\n",
       "      <td>4.562300</td>\n",
       "    </tr>\n",
       "    <tr>\n",
       "      <th>75%</th>\n",
       "      <td>8.578100</td>\n",
       "      <td>7.046700</td>\n",
       "    </tr>\n",
       "    <tr>\n",
       "      <th>max</th>\n",
       "      <td>22.203000</td>\n",
       "      <td>24.147000</td>\n",
       "    </tr>\n",
       "  </tbody>\n",
       "</table>\n",
       "</div>"
      ],
      "text/plain": [
       "       Population     Profit\n",
       "count   97.000000  97.000000\n",
       "mean     8.159800   5.839135\n",
       "std      3.869884   5.510262\n",
       "min      5.026900  -2.680700\n",
       "25%      5.707700   1.986900\n",
       "50%      6.589400   4.562300\n",
       "75%      8.578100   7.046700\n",
       "max     22.203000  24.147000"
      ]
     },
     "execution_count": 17,
     "metadata": {},
     "output_type": "execute_result"
    }
   ],
   "source": [
    "data.describe()"
   ]
  },
  {
   "cell_type": "code",
   "execution_count": 18,
   "metadata": {},
   "outputs": [
    {
     "data": {
      "text/plain": [
       "<matplotlib.axes._subplots.AxesSubplot at 0xa954c50>"
      ]
     },
     "execution_count": 18,
     "metadata": {},
     "output_type": "execute_result"
    },
    {
     "data": {
      "image/png": "[encoded data removed]",
      "text/plain": [
       "<matplotlib.figure.Figure at 0xa954890>"
      ]
     },
     "metadata": {},
     "output_type": "display_data"
    }
   ],
   "source": [
    "data.plot(kind = 'scatter', x = 'Population', y = 'Profit',\n",
    "          s= 40, color = 'blue', figsize=(12,8))\n",
    "# we used the initial labeling for easier comprehension.\n"
   ]
  },
  {
   "cell_type": "code",
   "execution_count": 24,
   "metadata": {},
   "outputs": [
    {
     "data": {
      "text/plain": [
       "(97, 1)"
      ]
     },
     "execution_count": 24,
     "metadata": {},
     "output_type": "execute_result"
    }
   ],
   "source": [
    "nrows = data.shape[0]\n",
    "ncols = data.shape[1]\n",
    "\n",
    "x = data.loc[:, 'Population'].values \n",
    "x = x.reshape(nrows, 1)\n",
    "x.shape"
   ]
  },
  {
   "cell_type": "code",
   "execution_count": 25,
   "metadata": {},
   "outputs": [
    {
     "data": {
      "text/plain": [
       "(97, 1)"
      ]
     },
     "execution_count": 25,
     "metadata": {},
     "output_type": "execute_result"
    }
   ],
   "source": [
    "nrows = data.shape[0]\n",
    "ncols = data.shape[1]\n",
    "\n",
    "y = data.loc[:, 'Profit'].values \n",
    "y = y.reshape(nrows, 1)\n",
    "y.shape"
   ]
  },
  {
   "cell_type": "code",
   "execution_count": 28,
   "metadata": {},
   "outputs": [
    {
     "data": {
      "text/plain": [
       "array([[6.1101, 1.    ],\n",
       "       [5.5277, 1.    ],\n",
       "       [8.5186, 1.    ],\n",
       "       [7.0032, 1.    ],\n",
       "       [5.8598, 1.    ],\n",
       "       [8.3829, 1.    ],\n",
       "       [7.4764, 1.    ]])"
      ]
     },
     "execution_count": 28,
     "metadata": {},
     "output_type": "execute_result"
    }
   ],
   "source": [
    "one_stack = np.ones((nrows,1))\n",
    "x_stack = np.hstack((x, one_stack))\n",
    "x_stack[:7]"
   ]
  },
  {
   "cell_type": "code",
   "execution_count": 30,
   "metadata": {},
   "outputs": [],
   "source": [
    "def train(x,y):\n",
    "    print_every = 25\n",
    "    iteration = 2500\n",
    "    \n",
    "    theta = [[0],[0]]\n",
    "    \n",
    "    cost_function = np.zeros(iteration)\n",
    "    for i in range(0, iteration):\n",
    "        h = x @ theta\n",
    "        theta = update_weight(h, theta, x)\n",
    "        cost_function[i] = cost(x, theta)\n",
    "        \n",
    "        if i % print_every  == 0:\n",
    "            print(\"Iteration: {}, Cost function: {} \".format(i, cost_function[i]))\n",
    "    \n",
    "    return theta, cost_function"
   ]
  },
  {
   "cell_type": "code",
   "execution_count": 31,
   "metadata": {},
   "outputs": [],
   "source": [
    "def cost(x, theta):\n",
    "    m = nrows\n",
    "    h = x @ theta\n",
    "    return (1/(2 * m)) * np.sum(np.square(h - y))\n",
    "\n",
    "def update_weight(h, theta, x):\n",
    "    m = nrows\n",
    "    alpha = 0.001\n",
    "    theta = theta - alpha * (1 / m * ( x.T @ (h - y)))\n",
    "    return theta"
   ]
  },
  {
   "cell_type": "code",
   "execution_count": 32,
   "metadata": {},
   "outputs": [
    {
     "name": "stdout",
     "output_type": "stream",
     "text": [
      "Iteration: 0, Cost function: 27.94761974682486 \n",
      "Iteration: 25, Cost function: 6.204323518572881 \n",
      "Iteration: 50, Cost function: 5.893742954855769 \n",
      "Iteration: 75, Cost function: 5.8769861170236295 \n",
      "Iteration: 100, Cost function: 5.864367965267966 \n",
      "Iteration: 125, Cost function: 5.85191769517019 \n",
      "Iteration: 150, Cost function: 5.839579893933509 \n",
      "Iteration: 175, Cost function: 5.827352813618294 \n",
      "Iteration: 200, Cost function: 5.815235450570351 \n",
      "Iteration: 225, Cost function: 5.80322682012619 \n",
      "Iteration: 250, Cost function: 5.791325946594822 \n",
      "Iteration: 275, Cost function: 5.779531863042289 \n",
      "Iteration: 300, Cost function: 5.767843611211235 \n",
      "Iteration: 325, Cost function: 5.7562602414430275 \n",
      "Iteration: 350, Cost function: 5.744780812600596 \n",
      "Iteration: 375, Cost function: 5.733404391991961 \n",
      "Iteration: 400, Cost function: 5.722130055294463 \n",
      "Iteration: 425, Cost function: 5.710956886479648 \n",
      "Iteration: 450, Cost function: 5.699883977738863 \n",
      "Iteration: 475, Cost function: 5.688910429409475 \n",
      "Iteration: 500, Cost function: 5.678035349901785 \n",
      "Iteration: 525, Cost function: 5.667257855626591 \n",
      "Iteration: 550, Cost function: 5.656577070923389 \n",
      "Iteration: 575, Cost function: 5.645992127989227 \n",
      "Iteration: 600, Cost function: 5.6355021668082035 \n",
      "Iteration: 625, Cost function: 5.62510633508159 \n",
      "Iteration: 650, Cost function: 5.614803788158575 \n",
      "Iteration: 675, Cost function: 5.604593688967652 \n",
      "Iteration: 700, Cost function: 5.594475207948589 \n",
      "Iteration: 725, Cost function: 5.584447522985043 \n",
      "Iteration: 750, Cost function: 5.5745098193377585 \n",
      "Iteration: 775, Cost function: 5.5646612895783685 \n",
      "Iteration: 800, Cost function: 5.554901133523798 \n",
      "Iteration: 825, Cost function: 5.545228558171246 \n",
      "Iteration: 850, Cost function: 5.53564277763375 \n",
      "Iteration: 875, Cost function: 5.526143013076344 \n",
      "Iteration: 900, Cost function: 5.516728492652765 \n",
      "Iteration: 925, Cost function: 5.507398451442763 \n",
      "Iteration: 950, Cost function: 5.498152131389927 \n",
      "Iteration: 975, Cost function: 5.488988781240108 \n",
      "Iteration: 1000, Cost function: 5.479907656480384 \n",
      "Iteration: 1025, Cost function: 5.470908019278553 \n",
      "Iteration: 1050, Cost function: 5.4619891384232 \n",
      "Iteration: 1075, Cost function: 5.453150289264281 \n",
      "Iteration: 1100, Cost function: 5.444390753654248 \n",
      "Iteration: 1125, Cost function: 5.435709819889695 \n",
      "Iteration: 1150, Cost function: 5.4271067826535395 \n",
      "Iteration: 1175, Cost function: 5.418580942957708 \n",
      "Iteration: 1200, Cost function: 5.410131608086355 \n",
      "Iteration: 1225, Cost function: 5.401758091539576 \n",
      "Iteration: 1250, Cost function: 5.393459712977617 \n",
      "Iteration: 1275, Cost function: 5.385235798165625 \n",
      "Iteration: 1300, Cost function: 5.37708567891884 \n",
      "Iteration: 1325, Cost function: 5.36900869304832 \n",
      "Iteration: 1350, Cost function: 5.361004184307137 \n",
      "Iteration: 1375, Cost function: 5.353071502337056 \n",
      "Iteration: 1400, Cost function: 5.345210002615695 \n",
      "Iteration: 1425, Cost function: 5.337419046404154 \n",
      "Iteration: 1450, Cost function: 5.329698000695127 \n",
      "Iteration: 1475, Cost function: 5.322046238161465 \n",
      "Iteration: 1500, Cost function: 5.3144631371052 \n",
      "Iteration: 1525, Cost function: 5.306948081407049 \n",
      "Iteration: 1550, Cost function: 5.299500460476342 \n",
      "Iteration: 1575, Cost function: 5.292119669201409 \n",
      "Iteration: 1600, Cost function: 5.284805107900433 \n",
      "Iteration: 1625, Cost function: 5.277556182272708 \n",
      "Iteration: 1650, Cost function: 5.270372303350363 \n",
      "Iteration: 1675, Cost function: 5.2632528874505065 \n",
      "Iteration: 1700, Cost function: 5.256197356127796 \n",
      "Iteration: 1725, Cost function: 5.249205136127458 \n",
      "Iteration: 1750, Cost function: 5.242275659338686 \n",
      "Iteration: 1775, Cost function: 5.235408362748507 \n",
      "Iteration: 1800, Cost function: 5.228602688396025 \n",
      "Iteration: 1825, Cost function: 5.22185808332708 \n",
      "Iteration: 1850, Cost function: 5.215173999549337 \n",
      "Iteration: 1875, Cost function: 5.208549893987754 \n",
      "Iteration: 1900, Cost function: 5.201985228440457 \n",
      "Iteration: 1925, Cost function: 5.195479469535013 \n",
      "Iteration: 1950, Cost function: 5.189032088685095 \n",
      "Iteration: 1975, Cost function: 5.182642562047531 \n",
      "Iteration: 2000, Cost function: 5.176310370479749 \n",
      "Iteration: 2025, Cost function: 5.1700349994975925 \n",
      "Iteration: 2050, Cost function: 5.163815939233518 \n",
      "Iteration: 2075, Cost function: 5.157652684395174 \n",
      "Iteration: 2100, Cost function: 5.151544734224339 \n",
      "Iteration: 2125, Cost function: 5.145491592456245 \n",
      "Iteration: 2150, Cost function: 5.139492767279246 \n",
      "Iteration: 2175, Cost function: 5.133547771294869 \n",
      "Iteration: 2200, Cost function: 5.127656121478206 \n",
      "Iteration: 2225, Cost function: 5.121817339138671 \n",
      "Iteration: 2250, Cost function: 5.1160309498811065 \n",
      "Iteration: 2275, Cost function: 5.11029648356724 \n",
      "Iteration: 2300, Cost function: 5.104613474277491 \n",
      "Iteration: 2325, Cost function: 5.0989814602731 \n",
      "Iteration: 2350, Cost function: 5.093399983958631 \n",
      "Iteration: 2375, Cost function: 5.08786859184478 \n",
      "Iteration: 2400, Cost function: 5.082386834511536 \n",
      "Iteration: 2425, Cost function: 5.076954266571663 \n",
      "Iteration: 2450, Cost function: 5.071570446634515 \n",
      "Iteration: 2475, Cost function: 5.066234937270166 \n"
     ]
    }
   ],
   "source": [
    "theta, cost_values = train(x_stack,y)"
   ]
  },
  {
   "cell_type": "code",
   "execution_count": 33,
   "metadata": {},
   "outputs": [
    {
     "name": "stdout",
     "output_type": "stream",
     "text": [
      "our trained data:  [ 0.93855117 -1.36263013]\n"
     ]
    }
   ],
   "source": [
    "print('our trained data: ',theta.ravel())"
   ]
  },
  {
   "cell_type": "code",
   "execution_count": 35,
   "metadata": {},
   "outputs": [
    {
     "data": {
      "image/png": "[encoded data removed]",
      "text/plain": [
       "<matplotlib.figure.Figure at 0xc88fad0>"
      ]
     },
     "metadata": {},
     "output_type": "display_data"
    }
   ],
   "source": [
    "plt.plot(cost_values)\n",
    "plt.ylabel('Cost function')\n",
    "plt.xlabel('Iterations')\n",
    "plt.show()"
   ]
  },
  {
   "cell_type": "code",
   "execution_count": 37,
   "metadata": {},
   "outputs": [
    {
     "data": {
      "text/plain": [
       "[<matplotlib.lines.Line2D at 0xc943cd0>]"
      ]
     },
     "execution_count": 37,
     "metadata": {},
     "output_type": "execute_result"
    },
    {
     "data": {
      "image/png": "[encoded data removed]",
      "text/plain": [
       "<matplotlib.figure.Figure at 0xc8ef1b0>"
      ]
     },
     "metadata": {},
     "output_type": "display_data"
    }
   ],
   "source": [
    "x_plot = np.arange(5,23)\n",
    "y_plot = theta[0]*x_plot + theta[1]\n",
    "plt.scatter(x[:,0], y, s=30, c='r', marker='o', linewidths=1)\n",
    "plt.plot(x_plot,y_plot, label='Linear regression (Gradient descent)')"
   ]
  },
  {
   "cell_type": "code",
   "execution_count": 38,
   "metadata": {},
   "outputs": [],
   "source": [
    "def predict():\n",
    "    input_ = float(input('Enter the population size(10,000): '))\n",
    "    print(\"For a population of {}, the estimated profit is ${}\".format(input_, input_ * 1.2334223))"
   ]
  },
  {
   "cell_type": "code",
   "execution_count": null,
   "metadata": {},
   "outputs": [],
   "source": [
    "predict()"
   ]
  },
  {
   "cell_type": "code",
   "execution_count": null,
   "metadata": {},
   "outputs": [],
   "source": []
  },
  {
   "cell_type": "code",
   "execution_count": null,
   "metadata": {},
   "outputs": [],
   "source": []
  }
 ],
 "metadata": {
  "kernelspec": {
   "display_name": "Python 3",
   "language": "python",
   "name": "python3"
  }
 },
 "nbformat": 4,
 "nbformat_minor": 2
}
